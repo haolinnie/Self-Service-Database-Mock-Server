{
 "cells": [
  {
   "cell_type": "code",
   "execution_count": 1,
   "metadata": {},
   "outputs": [],
   "source": [
    "import db_op"
   ]
  },
  {
   "cell_type": "code",
   "execution_count": 24,
   "metadata": {},
   "outputs": [
    {
     "name": "stdout",
     "output_type": "stream",
     "text": [
      "pt_id: \n",
      "[20676, 36440, 50765, 59153, 64153, 64656, 66172]\n"
     ]
    }
   ],
   "source": [
    "### Returns all pd_id for certain threshold\n",
    "table_name = \"smart_data_deid\"\n",
    "col_name1 = \"element_name\"\n",
    "col_value1 = \"FINDINGS - TESTS - EYES - TONOMETRY - IOP - INTRAOCULAR PRESSURE - LEFT\"\n",
    "col_name2 = \"smrtdta_elem_value\"\n",
    "comparator = \">\"\n",
    "col_value2 = \"13\"\n",
    "\n",
    "cmd = \"\"\"\n",
    "SELECT DISTINCT pt_id\n",
    "FROM {}\n",
    "WHERE {} = '{}' AND \n",
    "{} {} {}\n",
    "ORDER BY pt_id\n",
    "\"\"\".format(table_name, col_name1, col_value1, col_name2, comparator, col_value2)\n",
    "x = db_op.test_execute(cmd)\n",
    "x = [v[0] for v in x]\n",
    "print(\"pt_id: \")\n",
    "print(x)"
   ]
  },
  {
   "cell_type": "code",
   "execution_count": 2,
   "metadata": {},
   "outputs": [],
   "source": [
    "### Select values from tables with given pt_id\n",
    "pt_id = [20676, 36440, 50765, 59153, 64153, 64656, 66172]\n",
    "pt_id = \"'\" + \"', '\".join([str(v) for v in pt_id]) + \"'\"\n",
    "out_cols = \"*\"\n",
    "table_name = \"medication_deid\"\n",
    "\n",
    "cmd = \"\"\"\n",
    "SELECT {}\n",
    "FROM {}\n",
    "WHERE pt_id IN({})\n",
    "ORDER BY pt_id\n",
    "\"\"\".format(out_cols, table_name, pt_id)\n",
    "x = db_op.test_execute(cmd)\n",
    "# x"
   ]
  },
  {
   "cell_type": "code",
   "execution_count": 36,
   "metadata": {},
   "outputs": [
    {
     "data": {
      "text/plain": [
       "{'20676': {'medication': [{'generic_name': 'Spacer/Aerosol-Holding Chambers - Device',\n",
       "    'therapeutic_class': 'Miscellaneous Products',\n",
       "    'date': '2010-12-03 16:19:00'},\n",
       "   {'generic_name': 'Fluticasone Propionate Nasal Susp 50 MCG/ACT',\n",
       "    'therapeutic_class': 'Respiratory Agents',\n",
       "    'date': '2013-12-08 09:02:00'},\n",
       "   {'generic_name': 'Apremilast Tab 30 MG',\n",
       "    'therapeutic_class': 'Analgesics & Anesthetics',\n",
       "    'date': '2015-03-19 09:31:00'},\n",
       "   {'generic_name': 'apremilast 30 mg tablet',\n",
       "    'therapeutic_class': 'ANTIARTHRITICS',\n",
       "    'date': '2015-03-19 09:31:00'},\n",
       "   {'generic_name': 'Fluticasone Propionate Nasal Susp 50 MCG/ACT',\n",
       "    'therapeutic_class': 'Respiratory Agents',\n",
       "    'date': '2015-10-22 12:01:00'},\n",
       "   {'generic_name': 'Hydroxychloroquine Sulfate Tab 200 MG',\n",
       "    'therapeutic_class': 'Anti-Infective Agents',\n",
       "    'date': '2016-02-18 16:50:00'},\n",
       "   {'generic_name': 'fluticasone 50 mcg/actuation nasal spray,suspension',\n",
       "    'therapeutic_class': 'EENT PREPS',\n",
       "    'date': '2016-09-17 13:45:00'},\n",
       "   {'generic_name': 'hydroxychloroquine 200 mg tablet',\n",
       "    'therapeutic_class': 'ANTIINFECTIVES/MISCELLANEOUS',\n",
       "    'date': '2017-03-04 09:30:00'},\n",
       "   {'generic_name': 'Hydroxychloroquine Sulfate Tab 200 MG',\n",
       "    'therapeutic_class': 'Anti-Infective Agents',\n",
       "    'date': '2017-04-14 13:28:00'},\n",
       "   {'generic_name': 'hydroxychloroquine 200 mg tablet',\n",
       "    'therapeutic_class': 'ANTIINFECTIVES/MISCELLANEOUS',\n",
       "    'date': '2018-06-20 10:29:00'}]}}"
      ]
     },
     "execution_count": 36,
     "metadata": {},
     "output_type": "execute_result"
    }
   ],
   "source": [
    "## Select medication [generic name, therapeutic class, date] for pt_id\n",
    "# pt_id = [20676, 36440, 50765, 59153, 64153, 64656, 66172]\n",
    "pt_id = 20676\n",
    "out = {}\n",
    "out[str(pt_id)] = {}\n",
    "out_cols = \"generic_name, therapeutic_class, order_placed_dt\"\n",
    "table_name = \"medication_deid\"\n",
    "cmd = \"\"\"\n",
    "SELECT {}\n",
    "FROM {}\n",
    "WHERE pt_id IN({})\n",
    "ORDER BY order_placed_dt\n",
    "\"\"\".format(out_cols, table_name, pt_id)\n",
    "res = db_op.test_execute(cmd)\n",
    "out_cols = ('generic_name', 'therapeutic_class', 'date')\n",
    "out[str(pt_id)]['medication'] = [dict(zip(out_cols, val)) for val in res]\n",
    "out"
   ]
  },
  {
   "cell_type": "code",
   "execution_count": 40,
   "metadata": {},
   "outputs": [],
   "source": [
    "cols = \"element_name, smrtdta_elem_value, value_dt\"\n",
    "table_name = \"smart_data_deid\"\n",
    "cmd = \"\"\" SELECT {} FROM {} WHERE pt_id IN({}) ORDER BY value_dt \n",
    "\"\"\".format(cols, table_name, pt_id)\n",
    "res = db_op.test_execute(cmd)"
   ]
  },
  {
   "cell_type": "code",
   "execution_count": 45,
   "metadata": {},
   "outputs": [
    {
     "data": {
      "text/plain": [
       "[('FINDINGS - TESTS - EYES - TONOMETRY - IOP - INTRAOCULAR PRESSURE - LEFT',\n",
       "  '14',\n",
       "  '2014-08-09 00:00:00'),\n",
       " ('FINDINGS - TESTS - EYES - TONOMETRY - IOP - INTRAOCULAR PRESSURE - RIGHT',\n",
       "  '14',\n",
       "  '2014-08-09 00:00:00'),\n",
       " ('FINDINGS - TESTS - EYES - TONOMETRY - IOP - INTRAOCULAR PRESSURE - LEFT',\n",
       "  '14',\n",
       "  '2017-05-03 00:00:00'),\n",
       " ('FINDINGS - TESTS - EYES - TONOMETRY - IOP - INTRAOCULAR PRESSURE - RIGHT',\n",
       "  '14',\n",
       "  '2017-05-03 00:00:00'),\n",
       " ('FINDINGS - TESTS - EYES - TONOMETRY - IOP - INTRAOCULAR PRESSURE - RIGHT',\n",
       "  '15',\n",
       "  '2018-08-09 00:00:00'),\n",
       " ('FINDINGS - TESTS - EYES - TONOMETRY - IOP - INTRAOCULAR PRESSURE - LEFT',\n",
       "  '14',\n",
       "  '2018-08-09 00:00:00')]"
      ]
     },
     "execution_count": 45,
     "metadata": {},
     "output_type": "execute_result"
    }
   ],
   "source": [
    "[val for val in res if val[0].find('PRESSURE') != -1]"
   ]
  },
  {
   "cell_type": "code",
   "execution_count": 50,
   "metadata": {},
   "outputs": [
    {
     "data": {
      "text/plain": [
       "[{'exam_id': 70461, 'exam_date': '2020-04-10 00:00:00'},\n",
       " {'exam_id': 70462, 'exam_date': '2020-04-10 00:00:00'}]"
      ]
     },
     "execution_count": 50,
     "metadata": {},
     "output_type": "execute_result"
    }
   ],
   "source": [
    "## Select exam_id for pt_id\n",
    "# pt_id = [20676, 36440, 50765, 59153, 64153, 64656, 66172]\n",
    "pt_id = 66172\n",
    "out = {}\n",
    "out_cols = \"exam_id, exam_date\"\n",
    "table_name = \"exam_deid\"\n",
    "cmd = \"\"\"\n",
    "SELECT {}\n",
    "FROM {}\n",
    "WHERE pt_id IN({})\n",
    "ORDER BY exam_date\n",
    "\"\"\".format(out_cols, table_name, pt_id)\n",
    "res = db_op.test_execute(cmd)\n",
    "out_cols = ('exam_id', 'exam_date')\n",
    "bla = [dict(zip(out_cols, val)) for val in res]\n"
   ]
  },
  {
   "cell_type": "code",
   "execution_count": 52,
   "metadata": {},
   "outputs": [
    {
     "data": {
      "text/plain": [
       "[{'exam_id': 70461, 'exam_date': '2020-04-10 00:00:00', 'images': {}},\n",
       " {'exam_id': 70462, 'exam_date': '2020-04-10 00:00:00', 'images': {}}]"
      ]
     },
     "execution_count": 52,
     "metadata": {},
     "output_type": "execute_result"
    }
   ],
   "source": [
    "for v in bla:\n",
    "    v['images'] = {}\n",
    "    \n",
    "bla"
   ]
  },
  {
   "cell_type": "code",
   "execution_count": 70,
   "metadata": {},
   "outputs": [],
   "source": [
    "cmd = \"\"\"SELECT image_procedure_id, image_procedure FROM image_procedure\"\"\"\n",
    "res = db_op.test_execute(cmd)\n",
    "image_procedures = dict(res)\n",
    "\n",
    "image_cols = ('image_id', 'image_num', 'image_type', 'image_laterality', 'image_procedure_id')\n",
    "exam_id = 70461\n",
    "cmd = \"\"\"\n",
    "SELECT image_id, image_num, image_type, image_laterality, image_procedure_id\n",
    "FROM image_deid\n",
    "WHERE exam_id IN({})\n",
    "ORDER BY image_num\n",
    "\"\"\".format(exam_id)\n",
    "res = db_op.test_execute(cmd)\n",
    "bla = [dict(zip(image_cols, list(val[:-1]) + [image_procedures[val[-1]]] )) for val in res]"
   ]
  },
  {
   "cell_type": "code",
   "execution_count": 71,
   "metadata": {},
   "outputs": [
    {
     "data": {
      "text/plain": [
       "[{'image_id': 1190360,\n",
       "  'image_num': 1,\n",
       "  'image_type': 'OCT',\n",
       "  'image_laterality': 'OD',\n",
       "  'image_procedure_id': 'Ir_oct'},\n",
       " {'image_id': 1190361,\n",
       "  'image_num': 2,\n",
       "  'image_type': 'OCT',\n",
       "  'image_laterality': 'OD',\n",
       "  'image_procedure_id': 'Ir_oct'},\n",
       " {'image_id': 1190362,\n",
       "  'image_num': 3,\n",
       "  'image_type': 'OCT',\n",
       "  'image_laterality': 'OD',\n",
       "  'image_procedure_id': 'Ir_oct'},\n",
       " {'image_id': 1190363,\n",
       "  'image_num': 4,\n",
       "  'image_type': 'OCT',\n",
       "  'image_laterality': 'OD',\n",
       "  'image_procedure_id': 'Ir_oct'},\n",
       " {'image_id': 1190364,\n",
       "  'image_num': 5,\n",
       "  'image_type': 'OCT',\n",
       "  'image_laterality': 'OD',\n",
       "  'image_procedure_id': 'Ir_oct'},\n",
       " {'image_id': 1190365,\n",
       "  'image_num': 6,\n",
       "  'image_type': 'OCT',\n",
       "  'image_laterality': 'OD',\n",
       "  'image_procedure_id': 'Ir_oct'},\n",
       " {'image_id': 1190366,\n",
       "  'image_num': 7,\n",
       "  'image_type': 'OCT',\n",
       "  'image_laterality': 'OD',\n",
       "  'image_procedure_id': 'Ir_oct'},\n",
       " {'image_id': 1190367,\n",
       "  'image_num': 8,\n",
       "  'image_type': 'OCT',\n",
       "  'image_laterality': 'OD',\n",
       "  'image_procedure_id': 'Ir_oct'},\n",
       " {'image_id': 1190368,\n",
       "  'image_num': 9,\n",
       "  'image_type': 'OCT',\n",
       "  'image_laterality': 'OD',\n",
       "  'image_procedure_id': 'Ir_oct'},\n",
       " {'image_id': 1190369,\n",
       "  'image_num': 10,\n",
       "  'image_type': 'OCT',\n",
       "  'image_laterality': 'OD',\n",
       "  'image_procedure_id': 'Ir_oct'}]"
      ]
     },
     "execution_count": 71,
     "metadata": {},
     "output_type": "execute_result"
    }
   ],
   "source": [
    "bla"
   ]
  },
  {
   "cell_type": "code",
   "execution_count": 64,
   "metadata": {},
   "outputs": [
    {
     "data": {
      "text/plain": [
       "[1, 2, 3]"
      ]
     },
     "execution_count": 64,
     "metadata": {},
     "output_type": "execute_result"
    }
   ],
   "source": [
    "[1, 2, 3][:-1] + [3]"
   ]
  },
  {
   "cell_type": "code",
   "execution_count": 60,
   "metadata": {},
   "outputs": [],
   "source": []
  },
  {
   "cell_type": "code",
   "execution_count": null,
   "metadata": {},
   "outputs": [],
   "source": []
  }
 ],
 "metadata": {
  "kernelspec": {
   "display_name": "Python 3",
   "language": "python",
   "name": "python3"
  },
  "language_info": {
   "codemirror_mode": {
    "name": "ipython",
    "version": 3
   },
   "file_extension": ".py",
   "mimetype": "text/x-python",
   "name": "python",
   "nbconvert_exporter": "python",
   "pygments_lexer": "ipython3",
   "version": "3.7.1"
  }
 },
 "nbformat": 4,
 "nbformat_minor": 4
}
